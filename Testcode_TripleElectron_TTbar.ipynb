{
  "nbformat": 4,
  "nbformat_minor": 0,
  "metadata": {
    "colab": {
      "provenance": [],
      "mount_file_id": "1Zh7HNXAW7YlxFlMZ41Zx8_B01JxWVcEU",
      "authorship_tag": "ABX9TyOjjjGxCFdmCPLVNuOHjZyx",
      "include_colab_link": true
    },
    "kernelspec": {
      "name": "python3",
      "display_name": "Python 3"
    },
    "language_info": {
      "name": "python"
    }
  },
  "cells": [
    {
      "cell_type": "markdown",
      "metadata": {
        "id": "view-in-github",
        "colab_type": "text"
      },
      "source": [
        "<a href=\"https://colab.research.google.com/github/jeongeun/ROOTExamples/blob/master/Testcode_TripleElectron_TTbar.ipynb\" target=\"_parent\"><img src=\"https://colab.research.google.com/assets/colab-badge.svg\" alt=\"Open In Colab\"/></a>"
      ]
    },
    {
      "cell_type": "code",
      "source": [
        "!pip install uproot\n",
        "!pip install glob\n",
        "!pip install awkward\n",
        "!pip install  numpy\n",
        "!pip install subprocess\n",
        "!pip install vector\n",
        "!pip install  matplotlib\n",
        "!pip install  mplhep"
      ],
      "metadata": {
        "colab": {
          "base_uri": "https://localhost:8080/"
        },
        "id": "B-DSHb4eTLMX",
        "outputId": "cbfb4b5a-e17e-45ba-c851-cd6b3c74a4a8"
      },
      "execution_count": 3,
      "outputs": [
        {
          "output_type": "stream",
          "name": "stdout",
          "text": [
            "Requirement already satisfied: uproot in /usr/local/lib/python3.10/dist-packages (5.3.9)\n",
            "Requirement already satisfied: awkward>=2.4.6 in /usr/local/lib/python3.10/dist-packages (from uproot) (2.6.6)\n",
            "Requirement already satisfied: cramjam>=2.5.0 in /usr/local/lib/python3.10/dist-packages (from uproot) (2.8.3)\n",
            "Requirement already satisfied: fsspec in /usr/local/lib/python3.10/dist-packages (from uproot) (2023.6.0)\n",
            "Requirement already satisfied: numpy in /usr/local/lib/python3.10/dist-packages (from uproot) (1.25.2)\n",
            "Requirement already satisfied: packaging in /usr/local/lib/python3.10/dist-packages (from uproot) (24.0)\n",
            "Requirement already satisfied: typing-extensions>=4.1.0 in /usr/local/lib/python3.10/dist-packages (from uproot) (4.11.0)\n",
            "Requirement already satisfied: awkward-cpp==35 in /usr/local/lib/python3.10/dist-packages (from awkward>=2.4.6->uproot) (35)\n",
            "Requirement already satisfied: importlib-metadata>=4.13.0 in /usr/local/lib/python3.10/dist-packages (from awkward>=2.4.6->uproot) (7.1.0)\n",
            "Requirement already satisfied: zipp>=0.5 in /usr/local/lib/python3.10/dist-packages (from importlib-metadata>=4.13.0->awkward>=2.4.6->uproot) (3.18.1)\n",
            "\u001b[31mERROR: Could not find a version that satisfies the requirement glob (from versions: none)\u001b[0m\u001b[31m\n",
            "\u001b[0m\u001b[31mERROR: No matching distribution found for glob\u001b[0m\u001b[31m\n",
            "\u001b[0mRequirement already satisfied: awkward in /usr/local/lib/python3.10/dist-packages (2.6.6)\n",
            "Requirement already satisfied: awkward-cpp==35 in /usr/local/lib/python3.10/dist-packages (from awkward) (35)\n",
            "Requirement already satisfied: fsspec>=2022.11.0 in /usr/local/lib/python3.10/dist-packages (from awkward) (2023.6.0)\n",
            "Requirement already satisfied: importlib-metadata>=4.13.0 in /usr/local/lib/python3.10/dist-packages (from awkward) (7.1.0)\n",
            "Requirement already satisfied: numpy>=1.18.0 in /usr/local/lib/python3.10/dist-packages (from awkward) (1.25.2)\n",
            "Requirement already satisfied: packaging in /usr/local/lib/python3.10/dist-packages (from awkward) (24.0)\n",
            "Requirement already satisfied: typing-extensions>=4.1.0 in /usr/local/lib/python3.10/dist-packages (from awkward) (4.11.0)\n",
            "Requirement already satisfied: zipp>=0.5 in /usr/local/lib/python3.10/dist-packages (from importlib-metadata>=4.13.0->awkward) (3.18.1)\n",
            "Requirement already satisfied: numpy in /usr/local/lib/python3.10/dist-packages (1.25.2)\n",
            "\u001b[31mERROR: Could not find a version that satisfies the requirement subprocess (from versions: none)\u001b[0m\u001b[31m\n",
            "\u001b[0m\u001b[31mERROR: No matching distribution found for subprocess\u001b[0m\u001b[31m\n",
            "\u001b[0mRequirement already satisfied: vector in /usr/local/lib/python3.10/dist-packages (1.4.1)\n",
            "Requirement already satisfied: numpy>=1.13.3 in /usr/local/lib/python3.10/dist-packages (from vector) (1.25.2)\n",
            "Requirement already satisfied: packaging>=19 in /usr/local/lib/python3.10/dist-packages (from vector) (24.0)\n",
            "Requirement already satisfied: matplotlib in /usr/local/lib/python3.10/dist-packages (3.7.1)\n",
            "Requirement already satisfied: contourpy>=1.0.1 in /usr/local/lib/python3.10/dist-packages (from matplotlib) (1.2.1)\n",
            "Requirement already satisfied: cycler>=0.10 in /usr/local/lib/python3.10/dist-packages (from matplotlib) (0.12.1)\n",
            "Requirement already satisfied: fonttools>=4.22.0 in /usr/local/lib/python3.10/dist-packages (from matplotlib) (4.51.0)\n",
            "Requirement already satisfied: kiwisolver>=1.0.1 in /usr/local/lib/python3.10/dist-packages (from matplotlib) (1.4.5)\n",
            "Requirement already satisfied: numpy>=1.20 in /usr/local/lib/python3.10/dist-packages (from matplotlib) (1.25.2)\n",
            "Requirement already satisfied: packaging>=20.0 in /usr/local/lib/python3.10/dist-packages (from matplotlib) (24.0)\n",
            "Requirement already satisfied: pillow>=6.2.0 in /usr/local/lib/python3.10/dist-packages (from matplotlib) (9.4.0)\n",
            "Requirement already satisfied: pyparsing>=2.3.1 in /usr/local/lib/python3.10/dist-packages (from matplotlib) (3.1.2)\n",
            "Requirement already satisfied: python-dateutil>=2.7 in /usr/local/lib/python3.10/dist-packages (from matplotlib) (2.8.2)\n",
            "Requirement already satisfied: six>=1.5 in /usr/local/lib/python3.10/dist-packages (from python-dateutil>=2.7->matplotlib) (1.16.0)\n",
            "Requirement already satisfied: mplhep in /usr/local/lib/python3.10/dist-packages (0.3.50)\n",
            "Requirement already satisfied: matplotlib>=3.4 in /usr/local/lib/python3.10/dist-packages (from mplhep) (3.7.1)\n",
            "Requirement already satisfied: mplhep-data in /usr/local/lib/python3.10/dist-packages (from mplhep) (0.0.3)\n",
            "Requirement already satisfied: numpy>=1.16.0 in /usr/local/lib/python3.10/dist-packages (from mplhep) (1.25.2)\n",
            "Requirement already satisfied: packaging in /usr/local/lib/python3.10/dist-packages (from mplhep) (24.0)\n",
            "Requirement already satisfied: uhi>=0.2.0 in /usr/local/lib/python3.10/dist-packages (from mplhep) (0.4.0)\n",
            "Requirement already satisfied: contourpy>=1.0.1 in /usr/local/lib/python3.10/dist-packages (from matplotlib>=3.4->mplhep) (1.2.1)\n",
            "Requirement already satisfied: cycler>=0.10 in /usr/local/lib/python3.10/dist-packages (from matplotlib>=3.4->mplhep) (0.12.1)\n",
            "Requirement already satisfied: fonttools>=4.22.0 in /usr/local/lib/python3.10/dist-packages (from matplotlib>=3.4->mplhep) (4.51.0)\n",
            "Requirement already satisfied: kiwisolver>=1.0.1 in /usr/local/lib/python3.10/dist-packages (from matplotlib>=3.4->mplhep) (1.4.5)\n",
            "Requirement already satisfied: pillow>=6.2.0 in /usr/local/lib/python3.10/dist-packages (from matplotlib>=3.4->mplhep) (9.4.0)\n",
            "Requirement already satisfied: pyparsing>=2.3.1 in /usr/local/lib/python3.10/dist-packages (from matplotlib>=3.4->mplhep) (3.1.2)\n",
            "Requirement already satisfied: python-dateutil>=2.7 in /usr/local/lib/python3.10/dist-packages (from matplotlib>=3.4->mplhep) (2.8.2)\n",
            "Requirement already satisfied: six>=1.5 in /usr/local/lib/python3.10/dist-packages (from python-dateutil>=2.7->matplotlib>=3.4->mplhep) (1.16.0)\n"
          ]
        }
      ]
    },
    {
      "cell_type": "code",
      "execution_count": 4,
      "metadata": {
        "id": "49MJryHfgJTO"
      },
      "outputs": [],
      "source": [
        "import uproot as up\n",
        "import awkward as ak\n",
        "import numpy as np\n",
        "from itertools import combinations\n",
        "from tqdm import tqdm\n",
        "import time\n",
        "\n",
        "start_time = time.time()"
      ]
    },
    {
      "cell_type": "code",
      "source": [
        "infile = \"/content/drive/MyDrive/Colab/ntuple_mc_130X_2023_BPix_125902_0.root:ntuple/tree\"  # TTbar 13.6TeV 23 post sample\n",
        "f = up.open(infile)\n",
        "tree = f.arrays(filter_name=[\"Ele_pt\", \"Ele_etaSC\", \"Ele_phiSC\", \"Ele_Et\"])\n",
        "Ele = ak.zip(\n",
        "{\n",
        "      \"pt\"   : tree[\"Ele_pt\"],\n",
        "      \"eta\"  : tree[\"Ele_etaSC\"],\n",
        "#      \"phi\"  : tree[\"Ele_phiSC\"],\n",
        "#      \"Et\"   : tree[\"Ele_Et\"],\n",
        " })\n",
        "\n",
        "def cut(candidates): #already cut applied at masking # 5\n",
        "       return candidates[candidates.pt >= 30.]\n",
        "\n",
        "pt15_Ele = cut(Ele)\n",
        "print(\"@ electron before any cut = : \",len(Ele.pt), \" , Et= \", Ele.pt, \", ak.num(Ele)= \", ak.num(Ele))\n",
        "print(\"@ electron pt > 15GeV cut = :\", len(pt15_Ele.pt), \" , Et= \", pt15_Ele.pt, \", ak.num(Ele)= \", ak.num(pt15_Ele))"
      ],
      "metadata": {
        "colab": {
          "base_uri": "https://localhost:8080/"
        },
        "id": "4IusoRQvsKd-",
        "outputId": "85ab4b8b-3a1b-4638-9c99-b781bf8c80c2"
      },
      "execution_count": 5,
      "outputs": [
        {
          "output_type": "stream",
          "name": "stdout",
          "text": [
            "@ electron before any cut = :  48000  , Et=  [[30.2, 15.6], [], [], [37.8], ..., [...], [40.7], [60.9, 13.9], [25.7, 24.9]] , ak.num(Ele)=  [2, 0, 0, 1, 0, 1, 0, 1, 0, 0, 1, 0, 2, ..., 0, 1, 1, 2, 0, 1, 0, 0, 2, 1, 2, 2]\n",
            "@ electron pt > 15GeV cut = : 48000  , Et=  [[30.2], [], [], [37.8], [], [], [], ..., [], [], [], [40.7], [60.9], []] , ak.num(Ele)=  [1, 0, 0, 1, 0, 0, 0, 1, 0, 0, 1, 0, 0, ..., 0, 1, 0, 2, 0, 1, 0, 0, 0, 1, 1, 0]\n"
          ]
        }
      ]
    },
    {
      "cell_type": "code",
      "source": [
        "# Make triple electron set\n",
        "enum_mask = (ak.num(pt15_Ele) >= 3)\n",
        "filtered_Ele = pt15_Ele[enum_mask]\n",
        "\n",
        "print(\"@ electron num >=3 cut = :\", len(filtered_Ele.pt), \" , Et= \", filtered_Ele.pt, \", ak.num(Ele)= \", ak.num(filtered_Ele))"
      ],
      "metadata": {
        "id": "polfnDJDVYol",
        "colab": {
          "base_uri": "https://localhost:8080/"
        },
        "outputId": "b0d3d3e5-09c1-4dc1-9e5f-7d530aebd2f4"
      },
      "execution_count": 6,
      "outputs": [
        {
          "output_type": "stream",
          "name": "stdout",
          "text": [
            "@ electron num >=3 cut = : 289  , Et=  [[100, 45.9, 37.1], [73.1, 31.6, 31], ..., [44.9, ..., 39.8], [125, 61.2, 51]] , ak.num(Ele)=  [3, 3, 3, 3, 3, 3, 3, 3, 3, 3, 3, 3, 3, ..., 3, 3, 4, 3, 3, 3, 3, 3, 3, 3, 3, 3]\n"
          ]
        }
      ]
    },
    {
      "cell_type": "code",
      "source": [
        "# Efficiently generate combinations and count them per event\n",
        "# and select the best one per event\n",
        "\n",
        "combination_counts = []   # 한 이벤트 당 (e,e,e) 조합 갯수 체크해보기\n",
        "all_comb_eee       = []   # 한 이벤트에서 가능한 모든 조합 저장\n",
        "best_comb_eee      = []   # 한이벤드 당 딱 하나 최고의 조합 저장!!\n",
        "\n",
        "for event in tqdm(filtered_Ele):\n",
        "    comb_eee = list(combinations(event, 3))\n",
        "    combination_counts.append(len(comb_eee))\n",
        "    all_comb_eee.extend(comb_eee) # 모든 조합을 all_comb_eee에 저장.\n",
        "\n",
        "    # select the best combination per event\n",
        "    if len(comb_eee) == 1:\n",
        "        best_comb_eee.append(comb_eee[0])\n",
        "    else: # 하나 최고의 조합을 찾는 파트 (max pt sum으로 선택)\n",
        "        max_pt_sum = 0\n",
        "        best_comb = None\n",
        "        for comb in comb_eee:\n",
        "            leading_ele, second_ele, third_ele = comb\n",
        "            pt_sums = [\n",
        "                leading_ele.pt + second_ele.pt,\n",
        "                leading_ele.pt + third_ele.pt,\n",
        "                second_ele.pt + third_ele.pt\n",
        "            ]\n",
        "            max_pt_sum_comb = max(pt_sums)\n",
        "            if max_pt_sum_comb > max_pt_sum:\n",
        "                max_pt_sum = max_pt_sum_comb\n",
        "                best_comb = comb\n",
        "        best_comb_eee.append(best_comb)\n",
        "\n",
        "# Converting to an awkward array for efficient storage and usage\n",
        "all_comb_eee = ak.from_iter(all_comb_eee) # 확인용\n",
        "\n",
        "best_comb_eee = ak.from_iter(best_comb_eee) #최종 선택한 조합\n",
        "\n",
        "end_time = time.time()\n",
        "print(f\"Time taken: {end_time - start_time} seconds\")\n"
      ],
      "metadata": {
        "id": "wgV38kTsUmSC",
        "colab": {
          "base_uri": "https://localhost:8080/"
        },
        "outputId": "da21395a-4d36-42e9-c723-cac834dfbd70"
      },
      "execution_count": 7,
      "outputs": [
        {
          "output_type": "stream",
          "name": "stderr",
          "text": [
            "100%|██████████| 289/289 [00:00<00:00, 9429.14it/s]"
          ]
        },
        {
          "output_type": "stream",
          "name": "stdout",
          "text": [
            "Time taken: 0.33791089057922363 seconds\n"
          ]
        },
        {
          "output_type": "stream",
          "name": "stderr",
          "text": [
            "\n"
          ]
        }
      ]
    },
    {
      "cell_type": "code",
      "source": [
        "# Print the combination counts\n",
        "print(\"Combination counts per event:\", combination_counts)\n",
        "print(\"Total number of combinations:\", sum(combination_counts))\n",
        "\n",
        "print(\"==> Total number of selected combinations:\", len(best_comb_eee))\n",
        "# 이벤트 수와 정확히 동일함을 확인."
      ],
      "metadata": {
        "colab": {
          "base_uri": "https://localhost:8080/"
        },
        "id": "roE0mDngvK_Z",
        "outputId": "3770aa4a-81c9-44d7-b3c2-ef8456f8e028"
      },
      "execution_count": 12,
      "outputs": [
        {
          "output_type": "stream",
          "name": "stdout",
          "text": [
            "Combination counts per event: [1, 1, 1, 1, 1, 1, 1, 1, 1, 1, 1, 1, 1, 1, 1, 1, 1, 1, 1, 1, 1, 4, 1, 1, 1, 1, 1, 1, 1, 1, 1, 1, 1, 1, 1, 1, 1, 1, 1, 1, 1, 1, 1, 1, 1, 4, 1, 1, 1, 1, 1, 1, 1, 1, 1, 1, 1, 1, 4, 1, 1, 1, 1, 1, 1, 1, 1, 1, 1, 1, 1, 1, 1, 1, 1, 1, 1, 1, 1, 1, 1, 1, 1, 1, 1, 1, 1, 1, 1, 1, 1, 4, 1, 1, 1, 1, 1, 1, 1, 1, 1, 1, 1, 1, 1, 1, 1, 1, 1, 1, 1, 1, 1, 1, 1, 1, 1, 1, 1, 1, 1, 1, 1, 4, 1, 1, 1, 1, 1, 1, 1, 1, 1, 1, 1, 1, 1, 1, 1, 1, 1, 1, 1, 1, 1, 1, 1, 1, 1, 1, 1, 1, 1, 1, 1, 1, 1, 1, 1, 1, 1, 1, 1, 1, 1, 1, 1, 1, 1, 1, 1, 1, 1, 1, 4, 1, 1, 1, 1, 1, 1, 1, 1, 1, 1, 1, 1, 10, 1, 1, 1, 1, 1, 1, 1, 4, 1, 1, 1, 1, 1, 1, 1, 1, 1, 1, 1, 1, 1, 1, 1, 10, 1, 1, 1, 1, 1, 1, 1, 1, 1, 1, 1, 1, 1, 1, 1, 1, 1, 1, 1, 4, 1, 1, 1, 1, 1, 1, 1, 1, 1, 1, 1, 1, 1, 1, 1, 4, 1, 1, 1, 1, 1, 1, 1, 1, 1, 1, 1, 1, 1, 1, 1, 1, 1, 1, 1, 1, 1, 1, 1, 1, 1, 1, 1, 1, 1, 1, 1, 4, 1, 1, 1, 1, 1, 1, 1, 1, 1]\n",
            "Total number of combinations: 337\n",
            "==> Total number of selected combinations: 289\n"
          ]
        }
      ]
    },
    {
      "cell_type": "code",
      "source": [
        "# Print the type of the array to see the structure\n",
        "print(ak.type(all_comb_eee))\n",
        "print(\"-------\")\n",
        "# Show the structure with some example data\n",
        "print(all_comb_eee.show())"
      ],
      "metadata": {
        "colab": {
          "base_uri": "https://localhost:8080/"
        },
        "id": "0KgDpdG0t3cB",
        "outputId": "264909e1-81a9-42ea-e6b2-453260b90641"
      },
      "execution_count": 14,
      "outputs": [
        {
          "output_type": "stream",
          "name": "stdout",
          "text": [
            "337 * ({pt: float64, eta: float64}, {pt: float64, eta: float64}, {pt: float64, eta: float64})\n",
            "-------\n",
            "[({pt: 100, eta: 1.97}, {pt: 45.9, eta: ..., ...}, {...}),\n",
            " ({pt: 73.1, eta: 0.602}, {pt: 31.6, ...}, {pt: 31, ...}),\n",
            " ({pt: 90.2, eta: 0.611}, {pt: 45.9, ...}, {pt: 35.6, ...}),\n",
            " ({pt: 145, eta: -0.642}, {pt: 39.6, ...}, {pt: 30.4, ...}),\n",
            " ({pt: 84.7, eta: 0.033}, {pt: 84.2, ...}, {pt: 57.6, ...}),\n",
            " ({pt: 69.5, eta: 0.408}, {pt: 32.5, ...}, {pt: 30.7, ...}),\n",
            " ({pt: 50, eta: 1.14}, {pt: 31.9, eta: ..., ...}, {...}),\n",
            " ({pt: 82.4, eta: 0.325}, {pt: 80.9, ...}, {pt: 60.1, ...}),\n",
            " ({pt: 105, eta: -1.73}, {pt: 43, eta: 1.02}, {pt: ..., ...}),\n",
            " ({pt: 80.7, eta: -1.69}, {pt: 71.9, ...}, {pt: 48.9, ...}),\n",
            " ...,\n",
            " ({pt: 115, eta: -0.399}, {pt: 75.3, ...}, {pt: 54.2, ...}),\n",
            " ({pt: 55.4, eta: 0.0882}, {pt: 44.7, ...}, {pt: 33.6, ...}),\n",
            " ({pt: 65, eta: 0.871}, {pt: 62.4, eta: ..., ...}, {...}),\n",
            " ({pt: 130, eta: 1.26}, {pt: 123, eta: ..., ...}, {...}),\n",
            " ({pt: 161, eta: -0.229}, {pt: 159, eta: ..., ...}, {...}),\n",
            " ({pt: 52.9, eta: 1.47}, {pt: 50.5, ...}, {pt: 47.7, ...}),\n",
            " ({pt: 103, eta: 0.494}, {pt: 81.7, ...}, {pt: 35.4, ...}),\n",
            " ({pt: 44.9, eta: 1.44}, {pt: 42.3, ...}, {pt: 39.8, ...}),\n",
            " ({pt: 125, eta: -0.486}, {pt: 61.2, ...}, {pt: 51, ...})]\n",
            "None\n"
          ]
        }
      ]
    },
    {
      "cell_type": "code",
      "source": [
        "# Print the type of the array to see the structure\n",
        "print(ak.type(best_comb_eee))\n",
        "print(\"-------\")\n",
        "# Show the structure with some example data\n",
        "print(best_comb_eee.show())\n"
      ],
      "metadata": {
        "colab": {
          "base_uri": "https://localhost:8080/"
        },
        "id": "s11BeOyat8hR",
        "outputId": "d53569d9-30c3-489f-f0c0-f6058df65f00"
      },
      "execution_count": 15,
      "outputs": [
        {
          "output_type": "stream",
          "name": "stdout",
          "text": [
            "289 * ({pt: float64, eta: float64}, {pt: float64, eta: float64}, {pt: float64, eta: float64})\n",
            "-------\n",
            "[({pt: 100, eta: 1.97}, {pt: 45.9, eta: ..., ...}, {...}),\n",
            " ({pt: 73.1, eta: 0.602}, {pt: 31.6, ...}, {pt: 31, ...}),\n",
            " ({pt: 90.2, eta: 0.611}, {pt: 45.9, ...}, {pt: 35.6, ...}),\n",
            " ({pt: 145, eta: -0.642}, {pt: 39.6, ...}, {pt: 30.4, ...}),\n",
            " ({pt: 84.7, eta: 0.033}, {pt: 84.2, ...}, {pt: 57.6, ...}),\n",
            " ({pt: 69.5, eta: 0.408}, {pt: 32.5, ...}, {pt: 30.7, ...}),\n",
            " ({pt: 50, eta: 1.14}, {pt: 31.9, eta: ..., ...}, {...}),\n",
            " ({pt: 82.4, eta: 0.325}, {pt: 80.9, ...}, {pt: 60.1, ...}),\n",
            " ({pt: 105, eta: -1.73}, {pt: 43, eta: 1.02}, {pt: ..., ...}),\n",
            " ({pt: 80.7, eta: -1.69}, {pt: 71.9, ...}, {pt: 48.9, ...}),\n",
            " ...,\n",
            " ({pt: 115, eta: -0.399}, {pt: 75.3, ...}, {pt: 54.2, ...}),\n",
            " ({pt: 55.4, eta: 0.0882}, {pt: 44.7, ...}, {pt: 33.6, ...}),\n",
            " ({pt: 65, eta: 0.871}, {pt: 62.4, eta: ..., ...}, {...}),\n",
            " ({pt: 130, eta: 1.26}, {pt: 123, eta: ..., ...}, {...}),\n",
            " ({pt: 161, eta: -0.229}, {pt: 159, eta: ..., ...}, {...}),\n",
            " ({pt: 52.9, eta: 1.47}, {pt: 50.5, ...}, {pt: 47.7, ...}),\n",
            " ({pt: 103, eta: 0.494}, {pt: 81.7, ...}, {pt: 35.4, ...}),\n",
            " ({pt: 44.9, eta: 1.44}, {pt: 42.3, ...}, {pt: 39.8, ...}),\n",
            " ({pt: 125, eta: -0.486}, {pt: 61.2, ...}, {pt: 51, ...})]\n",
            "None\n"
          ]
        }
      ]
    },
    {
      "cell_type": "code",
      "source": [
        "# Print the first few combinations to inspect\n",
        "print(ak.to_list(all_comb_eee[:2]))"
      ],
      "metadata": {
        "id": "sPRWOoGHt9vy"
      },
      "execution_count": null,
      "outputs": []
    },
    {
      "cell_type": "code",
      "source": [
        "# Optionally save the combinations to a file\n",
        "ak.to_parquet(all_comb_eee, \"triple_electron_combinations.parquet\")"
      ],
      "metadata": {
        "id": "6FXpm3W4UwxB"
      },
      "execution_count": null,
      "outputs": []
    }
  ]
}